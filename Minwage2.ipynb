{
 "cells": [
  {
   "cell_type": "code",
   "execution_count": 1,
   "id": "b944f4f2-c577-4bd4-bb4b-6cd9eac1edc3",
   "metadata": {},
   "outputs": [
    {
     "data": {
      "text/html": [
       "<div>\n",
       "<style scoped>\n",
       "    .dataframe tbody tr th:only-of-type {\n",
       "        vertical-align: middle;\n",
       "    }\n",
       "\n",
       "    .dataframe tbody tr th {\n",
       "        vertical-align: top;\n",
       "    }\n",
       "\n",
       "    .dataframe thead th {\n",
       "        text-align: right;\n",
       "    }\n",
       "</style>\n",
       "<table border=\"1\" class=\"dataframe\">\n",
       "  <thead>\n",
       "    <tr style=\"text-align: right;\">\n",
       "      <th></th>\n",
       "      <th>Alaska</th>\n",
       "      <th>Arkansas</th>\n",
       "      <th>California</th>\n",
       "      <th>Colorado</th>\n",
       "      <th>Connecticut</th>\n",
       "      <th>Delaware</th>\n",
       "      <th>District of Columbia</th>\n",
       "      <th>Guam</th>\n",
       "      <th>Hawaii</th>\n",
       "      <th>Idaho</th>\n",
       "      <th>...</th>\n",
       "      <th>Oregon</th>\n",
       "      <th>Pennsylvania</th>\n",
       "      <th>Rhode Island</th>\n",
       "      <th>South Dakota</th>\n",
       "      <th>Utah</th>\n",
       "      <th>Vermont</th>\n",
       "      <th>Washington</th>\n",
       "      <th>West Virginia</th>\n",
       "      <th>Wisconsin</th>\n",
       "      <th>Wyoming</th>\n",
       "    </tr>\n",
       "  </thead>\n",
       "  <tbody>\n",
       "    <tr>\n",
       "      <th>Alaska</th>\n",
       "      <td>1.000000</td>\n",
       "      <td>-0.332127</td>\n",
       "      <td>0.622245</td>\n",
       "      <td>-0.078678</td>\n",
       "      <td>0.646909</td>\n",
       "      <td>0.260265</td>\n",
       "      <td>0.271810</td>\n",
       "      <td>0.787515</td>\n",
       "      <td>0.630212</td>\n",
       "      <td>0.371745</td>\n",
       "      <td>...</td>\n",
       "      <td>0.010495</td>\n",
       "      <td>0.590298</td>\n",
       "      <td>0.610099</td>\n",
       "      <td>-0.287259</td>\n",
       "      <td>-0.017546</td>\n",
       "      <td>0.615675</td>\n",
       "      <td>0.378141</td>\n",
       "      <td>0.056924</td>\n",
       "      <td>0.683108</td>\n",
       "      <td>0.726771</td>\n",
       "    </tr>\n",
       "    <tr>\n",
       "      <th>Arkansas</th>\n",
       "      <td>-0.332127</td>\n",
       "      <td>1.000000</td>\n",
       "      <td>0.030265</td>\n",
       "      <td>0.333597</td>\n",
       "      <td>0.183662</td>\n",
       "      <td>0.107639</td>\n",
       "      <td>0.433775</td>\n",
       "      <td>0.037006</td>\n",
       "      <td>0.324870</td>\n",
       "      <td>0.008276</td>\n",
       "      <td>...</td>\n",
       "      <td>0.399650</td>\n",
       "      <td>0.065998</td>\n",
       "      <td>0.160773</td>\n",
       "      <td>0.826094</td>\n",
       "      <td>0.208586</td>\n",
       "      <td>0.236875</td>\n",
       "      <td>0.130825</td>\n",
       "      <td>0.504703</td>\n",
       "      <td>-0.069024</td>\n",
       "      <td>-0.235369</td>\n",
       "    </tr>\n",
       "    <tr>\n",
       "      <th>California</th>\n",
       "      <td>0.622245</td>\n",
       "      <td>0.030265</td>\n",
       "      <td>1.000000</td>\n",
       "      <td>0.649967</td>\n",
       "      <td>0.881831</td>\n",
       "      <td>0.518481</td>\n",
       "      <td>0.727373</td>\n",
       "      <td>0.411729</td>\n",
       "      <td>0.610784</td>\n",
       "      <td>0.542006</td>\n",
       "      <td>...</td>\n",
       "      <td>0.572160</td>\n",
       "      <td>0.241669</td>\n",
       "      <td>0.816544</td>\n",
       "      <td>0.171242</td>\n",
       "      <td>0.367924</td>\n",
       "      <td>0.894617</td>\n",
       "      <td>0.816087</td>\n",
       "      <td>0.492809</td>\n",
       "      <td>0.382444</td>\n",
       "      <td>0.598739</td>\n",
       "    </tr>\n",
       "    <tr>\n",
       "      <th>Colorado</th>\n",
       "      <td>-0.078678</td>\n",
       "      <td>0.333597</td>\n",
       "      <td>0.649967</td>\n",
       "      <td>1.000000</td>\n",
       "      <td>0.520931</td>\n",
       "      <td>0.581162</td>\n",
       "      <td>0.798145</td>\n",
       "      <td>-0.152291</td>\n",
       "      <td>0.291995</td>\n",
       "      <td>0.436981</td>\n",
       "      <td>...</td>\n",
       "      <td>0.733803</td>\n",
       "      <td>-0.229508</td>\n",
       "      <td>0.559646</td>\n",
       "      <td>0.519677</td>\n",
       "      <td>0.538775</td>\n",
       "      <td>0.581318</td>\n",
       "      <td>0.721208</td>\n",
       "      <td>0.623479</td>\n",
       "      <td>-0.101133</td>\n",
       "      <td>0.095454</td>\n",
       "    </tr>\n",
       "    <tr>\n",
       "      <th>Connecticut</th>\n",
       "      <td>0.646909</td>\n",
       "      <td>0.183662</td>\n",
       "      <td>0.881831</td>\n",
       "      <td>0.520931</td>\n",
       "      <td>1.000000</td>\n",
       "      <td>0.586472</td>\n",
       "      <td>0.700081</td>\n",
       "      <td>0.587469</td>\n",
       "      <td>0.674581</td>\n",
       "      <td>0.536894</td>\n",
       "      <td>...</td>\n",
       "      <td>0.480491</td>\n",
       "      <td>0.408964</td>\n",
       "      <td>0.829952</td>\n",
       "      <td>0.228521</td>\n",
       "      <td>0.307922</td>\n",
       "      <td>0.911003</td>\n",
       "      <td>0.760697</td>\n",
       "      <td>0.484080</td>\n",
       "      <td>0.468287</td>\n",
       "      <td>0.752009</td>\n",
       "    </tr>\n",
       "  </tbody>\n",
       "</table>\n",
       "<p>5 rows × 37 columns</p>\n",
       "</div>"
      ],
      "text/plain": [
       "               Alaska  Arkansas  California  Colorado  Connecticut  Delaware  \\\n",
       "Alaska       1.000000 -0.332127    0.622245 -0.078678     0.646909  0.260265   \n",
       "Arkansas    -0.332127  1.000000    0.030265  0.333597     0.183662  0.107639   \n",
       "California   0.622245  0.030265    1.000000  0.649967     0.881831  0.518481   \n",
       "Colorado    -0.078678  0.333597    0.649967  1.000000     0.520931  0.581162   \n",
       "Connecticut  0.646909  0.183662    0.881831  0.520931     1.000000  0.586472   \n",
       "\n",
       "             District of Columbia      Guam    Hawaii     Idaho  ...  \\\n",
       "Alaska                   0.271810  0.787515  0.630212  0.371745  ...   \n",
       "Arkansas                 0.433775  0.037006  0.324870  0.008276  ...   \n",
       "California               0.727373  0.411729  0.610784  0.542006  ...   \n",
       "Colorado                 0.798145 -0.152291  0.291995  0.436981  ...   \n",
       "Connecticut              0.700081  0.587469  0.674581  0.536894  ...   \n",
       "\n",
       "               Oregon  Pennsylvania  Rhode Island  South Dakota      Utah  \\\n",
       "Alaska       0.010495      0.590298      0.610099     -0.287259 -0.017546   \n",
       "Arkansas     0.399650      0.065998      0.160773      0.826094  0.208586   \n",
       "California   0.572160      0.241669      0.816544      0.171242  0.367924   \n",
       "Colorado     0.733803     -0.229508      0.559646      0.519677  0.538775   \n",
       "Connecticut  0.480491      0.408964      0.829952      0.228521  0.307922   \n",
       "\n",
       "              Vermont  Washington  West Virginia  Wisconsin   Wyoming  \n",
       "Alaska       0.615675    0.378141       0.056924   0.683108  0.726771  \n",
       "Arkansas     0.236875    0.130825       0.504703  -0.069024 -0.235369  \n",
       "California   0.894617    0.816087       0.492809   0.382444  0.598739  \n",
       "Colorado     0.581318    0.721208       0.623479  -0.101133  0.095454  \n",
       "Connecticut  0.911003    0.760697       0.484080   0.468287  0.752009  \n",
       "\n",
       "[5 rows x 37 columns]"
      ]
     },
     "execution_count": 1,
     "metadata": {},
     "output_type": "execute_result"
    }
   ],
   "source": [
    "# Starting from minwage file\n",
    "import pandas as pd\n",
    "import numpy as np\n",
    "\n",
    "df = pd.read_csv(\"dataset/minwage.csv\")\n",
    "\n",
    "act_min_wage = pd.DataFrame()\n",
    "\n",
    "for name, group in df.groupby(\"State\"):\n",
    "   \n",
    "    if act_min_wage.empty:\n",
    "        act_min_wage = group.set_index(\"Year\")[[\"Department.Of.Labor.Cleaned.Low.Value.2020.Dollars\"]].rename(columns={\"Department.Of.Labor.Cleaned.Low.Value.2020.Dollars\":name})\n",
    "    \n",
    "    else:\n",
    "        act_min_wage = act_min_wage.join(group.set_index(\"Year\")[[\"Department.Of.Labor.Cleaned.Low.Value.2020.Dollars\"]].rename(columns={\"Department.Of.Labor.Cleaned.Low.Value.2020.Dollars\":name}))\n",
    "        \n",
    "act_min_wage.head()\n",
    "\n",
    "min_wage_corr = act_min_wage.replace(0, np.NaN).dropna(axis=1).corr()\n",
    "\n",
    "min_wage_corr.head()\n"
   ]
  },
  {
   "cell_type": "code",
   "execution_count": 2,
   "id": "1c0ad50c-df79-465f-84ab-01deb2585989",
   "metadata": {},
   "outputs": [
    {
     "data": {
      "text/plain": [
       "<matplotlib.image.AxesImage at 0x27b4f5b4e80>"
      ]
     },
     "execution_count": 2,
     "metadata": {},
     "output_type": "execute_result"
    },
    {
     "data": {
      "image/png": "[encoded data removed]",
      "text/plain": [
       "<Figure size 288x288 with 1 Axes>"
      ]
     },
     "metadata": {
      "needs_background": "light"
     },
     "output_type": "display_data"
    }
   ],
   "source": [
    "import matplotlib.pyplot as plt\n",
    "plt.matshow(min_wage_corr)"
   ]
  },
  {
   "cell_type": "code",
   "execution_count": null,
   "id": "add592c2-957f-41a3-8fb7-01cbeac1696c",
   "metadata": {},
   "outputs": [],
   "source": []
  },
  {
   "cell_type": "code",
   "execution_count": 9,
   "id": "2a2d4f5b-3782-4b27-b7e2-8e5a0c85b9c4",
   "metadata": {},
   "outputs": [
    {
     "data": {
      "image/png": "[encoded data removed]",
      "text/plain": [
       "<Figure size 864x864 with 1 Axes>"
      ]
     },
     "metadata": {
      "needs_background": "light"
     },
     "output_type": "display_data"
    }
   ],
   "source": [
    "labels = [c[:2] for c in min_wage_corr.columns]\n",
    "\n",
    "fig = plt.figure(figsize=(12,12))\n",
    "ax = fig.add_subplot(111)\n",
    "\n",
    "ax.matshow(min_wage_corr, cmap=plt.cm.Spectral)\n",
    "\n",
    "ax.set_xticks(np.arange(len(labels)))\n",
    "ax.set_yticks(np.arange(len(labels)))\n",
    "\n",
    "ax.set_yticklabels(labels)\n",
    "ax.set_xticklabels(labels)\n",
    "\n",
    "plt.show()"
   ]
  },
  {
   "cell_type": "code",
   "execution_count": 10,
   "id": "057a7d6c-8129-48f7-9030-b7372d1ac8a7",
   "metadata": {},
   "outputs": [
    {
     "data": {
      "text/plain": [
       "['Al',\n",
       " 'Ar',\n",
       " 'Ca',\n",
       " 'Co',\n",
       " 'Co',\n",
       " 'De',\n",
       " 'Di',\n",
       " 'Gu',\n",
       " 'Ha',\n",
       " 'Id',\n",
       " 'In',\n",
       " 'Ke',\n",
       " 'Ma',\n",
       " 'Ma',\n",
       " 'Ma',\n",
       " 'Mi',\n",
       " 'Mi',\n",
       " 'Ne',\n",
       " 'Ne',\n",
       " 'Ne',\n",
       " 'Ne',\n",
       " 'Ne',\n",
       " 'Ne',\n",
       " 'No',\n",
       " 'No',\n",
       " 'Oh',\n",
       " 'Ok',\n",
       " 'Or',\n",
       " 'Pe',\n",
       " 'Rh',\n",
       " 'So',\n",
       " 'Ut',\n",
       " 'Ve',\n",
       " 'Wa',\n",
       " 'We',\n",
       " 'Wi',\n",
       " 'Wy']"
      ]
     },
     "execution_count": 10,
     "metadata": {},
     "output_type": "execute_result"
    }
   ],
   "source": [
    "labels"
   ]
  },
  {
   "cell_type": "code",
   "execution_count": 11,
   "id": "746b42b0-d780-47fa-bf04-b39fe199efbc",
   "metadata": {},
   "outputs": [],
   "source": [
    "# Taking the abbreviations from website infoplease.com and use \n",
    "import pandas as pd\n",
    "\n",
    "dfs = pd.read_html(\"https://www.infoplease.com/us/postal-information/state-abbreviations-and-state-postal-codes\")"
   ]
  },
  {
   "cell_type": "code",
   "execution_count": 12,
   "id": "9887c64a-7d1b-472d-bbcd-b5a91c0c847d",
   "metadata": {},
   "outputs": [],
   "source": [
    "# Or we can also use requests\n",
    "import pandas as pd\n",
    "import requests\n",
    "\n",
    "web = requests.get(\"https://www.infoplease.com/us/postal-information/state-abbreviations-and-state-postal-codes\")\n",
    "\n",
    "dfs = pd.read_html(web.text)"
   ]
  },
  {
   "cell_type": "code",
   "execution_count": 14,
   "id": "6cdc8677-2a9f-4300-b180-c395dc5e484b",
   "metadata": {},
   "outputs": [
    {
     "name": "stdout",
     "output_type": "stream",
     "text": [
      "  State Name/District Postal Abbreviation Postal Code\n",
      "0             Alabama                Ala.          AL\n",
      "1              Alaska              Alaska          AK\n",
      "2             Arizona               Ariz.          AZ\n",
      "3            Arkansas                Ark.          AR\n",
      "4          California              Calif.          CA\n",
      "        Territory/Associate Abbreviation Postal Code\n",
      "0            American Samoa          NaN          AS\n",
      "1                      Guam         Guam          GU\n",
      "2          Marshall Islands          NaN          MH\n",
      "3                Micronesia          NaN          FM\n",
      "4  Northern Mariana Islands          NaN          MP\n"
     ]
    }
   ],
   "source": [
    "for df in dfs:\n",
    "    print(df.head())"
   ]
  },
  {
   "cell_type": "code",
   "execution_count": 15,
   "id": "107ece75-1b94-45ff-ba1d-3d917b4e1678",
   "metadata": {},
   "outputs": [
    {
     "data": {
      "text/html": [
       "<div>\n",
       "<style scoped>\n",
       "    .dataframe tbody tr th:only-of-type {\n",
       "        vertical-align: middle;\n",
       "    }\n",
       "\n",
       "    .dataframe tbody tr th {\n",
       "        vertical-align: top;\n",
       "    }\n",
       "\n",
       "    .dataframe thead th {\n",
       "        text-align: right;\n",
       "    }\n",
       "</style>\n",
       "<table border=\"1\" class=\"dataframe\">\n",
       "  <thead>\n",
       "    <tr style=\"text-align: right;\">\n",
       "      <th></th>\n",
       "      <th>State Name/District</th>\n",
       "      <th>Postal Abbreviation</th>\n",
       "      <th>Postal Code</th>\n",
       "    </tr>\n",
       "  </thead>\n",
       "  <tbody>\n",
       "    <tr>\n",
       "      <th>0</th>\n",
       "      <td>Alabama</td>\n",
       "      <td>Ala.</td>\n",
       "      <td>AL</td>\n",
       "    </tr>\n",
       "    <tr>\n",
       "      <th>1</th>\n",
       "      <td>Alaska</td>\n",
       "      <td>Alaska</td>\n",
       "      <td>AK</td>\n",
       "    </tr>\n",
       "    <tr>\n",
       "      <th>2</th>\n",
       "      <td>Arizona</td>\n",
       "      <td>Ariz.</td>\n",
       "      <td>AZ</td>\n",
       "    </tr>\n",
       "    <tr>\n",
       "      <th>3</th>\n",
       "      <td>Arkansas</td>\n",
       "      <td>Ark.</td>\n",
       "      <td>AR</td>\n",
       "    </tr>\n",
       "    <tr>\n",
       "      <th>4</th>\n",
       "      <td>California</td>\n",
       "      <td>Calif.</td>\n",
       "      <td>CA</td>\n",
       "    </tr>\n",
       "  </tbody>\n",
       "</table>\n",
       "</div>"
      ],
      "text/plain": [
       "  State Name/District Postal Abbreviation Postal Code\n",
       "0             Alabama                Ala.          AL\n",
       "1              Alaska              Alaska          AK\n",
       "2             Arizona               Ariz.          AZ\n",
       "3            Arkansas                Ark.          AR\n",
       "4          California              Calif.          CA"
      ]
     },
     "execution_count": 15,
     "metadata": {},
     "output_type": "execute_result"
    }
   ],
   "source": [
    "state_abbv = dfs[0]\n",
    "state_abbv.head()"
   ]
  },
  {
   "cell_type": "code",
   "execution_count": 20,
   "id": "8b067a98-4214-4a1d-b848-87f4d98ee015",
   "metadata": {},
   "outputs": [],
   "source": [
    "state_abbv.to_csv(\"dataset/state_abbv.csv\", index = False)"
   ]
  },
  {
   "cell_type": "code",
   "execution_count": 21,
   "id": "e6dbe0d3-509a-4b45-8077-165b9abe2145",
   "metadata": {},
   "outputs": [
    {
     "data": {
      "text/html": [
       "<div>\n",
       "<style scoped>\n",
       "    .dataframe tbody tr th:only-of-type {\n",
       "        vertical-align: middle;\n",
       "    }\n",
       "\n",
       "    .dataframe tbody tr th {\n",
       "        vertical-align: top;\n",
       "    }\n",
       "\n",
       "    .dataframe thead th {\n",
       "        text-align: right;\n",
       "    }\n",
       "</style>\n",
       "<table border=\"1\" class=\"dataframe\">\n",
       "  <thead>\n",
       "    <tr style=\"text-align: right;\">\n",
       "      <th></th>\n",
       "      <th>Postal Abbreviation</th>\n",
       "      <th>Postal Code</th>\n",
       "    </tr>\n",
       "    <tr>\n",
       "      <th>State Name/District</th>\n",
       "      <th></th>\n",
       "      <th></th>\n",
       "    </tr>\n",
       "  </thead>\n",
       "  <tbody>\n",
       "    <tr>\n",
       "      <th>Alabama</th>\n",
       "      <td>Ala.</td>\n",
       "      <td>AL</td>\n",
       "    </tr>\n",
       "    <tr>\n",
       "      <th>Alaska</th>\n",
       "      <td>Alaska</td>\n",
       "      <td>AK</td>\n",
       "    </tr>\n",
       "    <tr>\n",
       "      <th>Arizona</th>\n",
       "      <td>Ariz.</td>\n",
       "      <td>AZ</td>\n",
       "    </tr>\n",
       "    <tr>\n",
       "      <th>Arkansas</th>\n",
       "      <td>Ark.</td>\n",
       "      <td>AR</td>\n",
       "    </tr>\n",
       "    <tr>\n",
       "      <th>California</th>\n",
       "      <td>Calif.</td>\n",
       "      <td>CA</td>\n",
       "    </tr>\n",
       "  </tbody>\n",
       "</table>\n",
       "</div>"
      ],
      "text/plain": [
       "                    Postal Abbreviation Postal Code\n",
       "State Name/District                                \n",
       "Alabama                            Ala.          AL\n",
       "Alaska                           Alaska          AK\n",
       "Arizona                           Ariz.          AZ\n",
       "Arkansas                           Ark.          AR\n",
       "California                       Calif.          CA"
      ]
     },
     "execution_count": 21,
     "metadata": {},
     "output_type": "execute_result"
    }
   ],
   "source": [
    "state_abbv = pd.read_csv(\"dataset/state_abbv.csv\", index_col=0)\n",
    "state_abbv.head()"
   ]
  },
  {
   "cell_type": "code",
   "execution_count": 24,
   "id": "8dd7b9f9-1e2e-4f2e-85e3-85ff38ac0087",
   "metadata": {},
   "outputs": [
    {
     "data": {
      "text/plain": [
       "{'Alabama': 'AL',\n",
       " 'Alaska': 'AK',\n",
       " 'Arizona': 'AZ',\n",
       " 'Arkansas': 'AR',\n",
       " 'California': 'CA',\n",
       " 'Colorado': 'CO',\n",
       " 'Connecticut': 'CT',\n",
       " 'Delaware': 'DE',\n",
       " 'District of Columbia': 'DC',\n",
       " 'Florida': 'FL',\n",
       " 'Georgia': 'GA',\n",
       " 'Hawaii': 'HI',\n",
       " 'Idaho': 'ID',\n",
       " 'Illinois': 'IL',\n",
       " 'Indiana': 'IN',\n",
       " 'Iowa': 'IA',\n",
       " 'Kansas': 'KS',\n",
       " 'Kentucky': 'KY',\n",
       " 'Louisiana': 'LA',\n",
       " 'Maine': 'ME',\n",
       " 'Maryland': 'MD',\n",
       " 'Massachusetts': 'MA',\n",
       " 'Michigan': 'MI',\n",
       " 'Minnesota': 'MN',\n",
       " 'Mississippi': 'MS',\n",
       " 'Missouri': 'MO',\n",
       " 'Montana': 'MT',\n",
       " 'Nebraska': 'NE',\n",
       " 'Nevada': 'NV',\n",
       " 'New Hampshire': 'NH',\n",
       " 'New Jersey': 'NJ',\n",
       " 'New Mexico': 'NM',\n",
       " 'New York': 'NY',\n",
       " 'North Carolina': 'NC',\n",
       " 'North Dakota': 'ND',\n",
       " 'Ohio': 'OH',\n",
       " 'Oklahoma': 'OK',\n",
       " 'Oregon': 'OR',\n",
       " 'Pennsylvania': 'PA',\n",
       " 'Rhode Island': 'RI',\n",
       " 'South Carolina': 'SC',\n",
       " 'South Dakota': 'SD',\n",
       " 'Tennessee': 'TN',\n",
       " 'Texas': 'TX',\n",
       " 'Utah': 'UT',\n",
       " 'Vermont': 'VT',\n",
       " 'Virginia': 'VA',\n",
       " 'Washington': 'WA',\n",
       " 'West Virginia': 'WV',\n",
       " 'Wisconsin': 'WI',\n",
       " 'Wyoming': 'WY'}"
      ]
     },
     "execution_count": 24,
     "metadata": {},
     "output_type": "execute_result"
    }
   ],
   "source": [
    "abbv_dict = state_abbv[[\"Postal Code\"]].to_dict()\n",
    "\n",
    "abbv_dict = abbv_dict[\"Postal Code\"]\n",
    "abbv_dict"
   ]
  },
  {
   "cell_type": "code",
   "execution_count": 25,
   "id": "52621c02-892d-4724-8b4a-7058a3f17131",
   "metadata": {},
   "outputs": [
    {
     "ename": "KeyError",
     "evalue": "'Guam'",
     "output_type": "error",
     "traceback": [
      "\u001b[1;31m---------------------------------------------------------------------------\u001b[0m",
      "\u001b[1;31mKeyError\u001b[0m                                  Traceback (most recent call last)",
      "\u001b[1;32m~\\AppData\\Local\\Temp/ipykernel_19224/2044302621.py\u001b[0m in \u001b[0;36m<module>\u001b[1;34m\u001b[0m\n\u001b[1;32m----> 1\u001b[1;33m \u001b[0mlabels\u001b[0m \u001b[1;33m=\u001b[0m \u001b[1;33m[\u001b[0m\u001b[0mabbv_dict\u001b[0m\u001b[1;33m[\u001b[0m\u001b[0mc\u001b[0m\u001b[1;33m]\u001b[0m \u001b[1;32mfor\u001b[0m \u001b[0mc\u001b[0m \u001b[1;32min\u001b[0m \u001b[0mmin_wage_corr\u001b[0m\u001b[1;33m.\u001b[0m\u001b[0mcolumns\u001b[0m\u001b[1;33m]\u001b[0m\u001b[1;33m\u001b[0m\u001b[0m\n\u001b[0m",
      "\u001b[1;32m~\\AppData\\Local\\Temp/ipykernel_19224/2044302621.py\u001b[0m in \u001b[0;36m<listcomp>\u001b[1;34m(.0)\u001b[0m\n\u001b[1;32m----> 1\u001b[1;33m \u001b[0mlabels\u001b[0m \u001b[1;33m=\u001b[0m \u001b[1;33m[\u001b[0m\u001b[0mabbv_dict\u001b[0m\u001b[1;33m[\u001b[0m\u001b[0mc\u001b[0m\u001b[1;33m]\u001b[0m \u001b[1;32mfor\u001b[0m \u001b[0mc\u001b[0m \u001b[1;32min\u001b[0m \u001b[0mmin_wage_corr\u001b[0m\u001b[1;33m.\u001b[0m\u001b[0mcolumns\u001b[0m\u001b[1;33m]\u001b[0m\u001b[1;33m\u001b[0m\u001b[0m\n\u001b[0m",
      "\u001b[1;31mKeyError\u001b[0m: 'Guam'"
     ]
    }
   ],
   "source": [
    "labels = [abbv_dict[c] for c in min_wage_corr.columns]"
   ]
  },
  {
   "cell_type": "code",
   "execution_count": 26,
   "id": "4940d271-668e-4f61-9890-8f9148cc7b36",
   "metadata": {},
   "outputs": [],
   "source": [
    "abbv_dict['Guam'] = \"GU\""
   ]
  },
  {
   "cell_type": "code",
   "execution_count": 27,
   "id": "c5838bf0-ee46-47c2-a60a-a02adbc45dc0",
   "metadata": {},
   "outputs": [],
   "source": [
    "labels = [abbv_dict[c] for c in min_wage_corr.columns]"
   ]
  },
  {
   "cell_type": "code",
   "execution_count": 29,
   "id": "e0ad7a6c-8e6b-4e52-84d4-77a7471594b1",
   "metadata": {},
   "outputs": [
    {
     "data": {
      "image/png": "[encoded data removed]",
      "text/plain": [
       "<Figure size 864x864 with 1 Axes>"
      ]
     },
     "metadata": {
      "needs_background": "light"
     },
     "output_type": "display_data"
    }
   ],
   "source": [
    "labels = [abbv_dict[c] for c in min_wage_corr.columns]\n",
    "\n",
    "fig = plt.figure(figsize=(12,12))\n",
    "ax = fig.add_subplot(111)\n",
    "\n",
    "ax.matshow(min_wage_corr, cmap=plt.cm.Spectral)\n",
    "\n",
    "ax.set_xticks(np.arange(len(labels)))\n",
    "ax.set_yticks(np.arange(len(labels)))\n",
    "\n",
    "ax.set_yticklabels(labels)\n",
    "ax.set_xticklabels(labels)\n",
    "\n",
    "plt.show()"
   ]
  },
  {
   "cell_type": "code",
   "execution_count": null,
   "id": "271ab6b0-399c-4327-8520-66a548653166",
   "metadata": {},
   "outputs": [],
   "source": []
  }
 ],
 "metadata": {
  "kernelspec": {
   "display_name": "Python 3 (ipykernel)",
   "language": "python",
   "name": "python3"
  },
  "language_info": {
   "codemirror_mode": {
    "name": "ipython",
    "version": 3
   },
   "file_extension": ".py",
   "mimetype": "text/x-python",
   "name": "python",
   "nbconvert_exporter": "python",
   "pygments_lexer": "ipython3",
   "version": "3.7.0"
  }
 },
 "nbformat": 4,
 "nbformat_minor": 5
}
